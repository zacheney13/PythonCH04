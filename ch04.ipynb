{
 "cells": [
  {
   "cell_type": "markdown",
   "metadata": {},
   "source": [
    "<img src=\"https://nimbus-screenshots.s3.amazonaws.com/s/85a61d1e5ea3b6f4e340944f58844dd2.png\" width=640>\n",
    "\n",
    "</a>\n",
    "# <p style=\"font-family: Arial; font-size:1.4em;color:red;\"> Chapter 4. Repetition Structures </p>"
   ]
  },
  {
   "cell_type": "markdown",
   "metadata": {},
   "source": [
    "***\n",
    "\n",
    "## <p style=\"background-color: grey; color: white \"> ◼️  While loop </p>\n",
    "# <p style=\"font-family: Arial; font-size:1.4em;color:red;\"> 1. Basic While-loop Structures</p>\n"
   ]
  },
  {
   "cell_type": "markdown",
   "metadata": {},
   "source": [
    "#### <p style=\"font-family: Arial; font-size:1.4em; background-color: yellow; color:black;\"> Problem #1.0 </p>\n",
    "\n",
    "#### Run all the cells and figure out the basic usage of while loop structure"
   ]
  },
  {
   "cell_type": "code",
   "execution_count": 1,
   "metadata": {},
   "outputs": [
    {
     "name": "stdout",
     "output_type": "stream",
     "text": [
      "1 2 3 4 5 6 7 8 9 10 "
     ]
    }
   ],
   "source": [
    "i = 0\n",
    "while (i < 10):\n",
    "\ti = i + 1\n",
    "\tprint (i, end=' ')"
   ]
  },
  {
   "cell_type": "code",
   "execution_count": 2,
   "metadata": {},
   "outputs": [
    {
     "name": "stdout",
     "output_type": "stream",
     "text": [
      "0 1 2 3 4 5 6 7 8 9 "
     ]
    }
   ],
   "source": [
    "i = 0\n",
    "while ( i< 10):\n",
    "\tprint (i, end=' ')\n",
    "\ti = i + 1"
   ]
  },
  {
   "cell_type": "code",
   "execution_count": 3,
   "metadata": {},
   "outputs": [
    {
     "name": "stdout",
     "output_type": "stream",
     "text": [
      "0 2 4 6 8 "
     ]
    }
   ],
   "source": [
    "i = 0\n",
    "while ( i < 10):\n",
    "\tprint (i, end=' ')\n",
    "\ti = i + 2"
   ]
  },
  {
   "cell_type": "code",
   "execution_count": 4,
   "metadata": {},
   "outputs": [
    {
     "name": "stdout",
     "output_type": "stream",
     "text": [
      "10 9 8 7 6 5 4 3 2 1 "
     ]
    }
   ],
   "source": [
    "i = 10\n",
    "while ( i > 0):\n",
    "\tprint (i, end=' ')\n",
    "\ti = i - 1"
   ]
  },
  {
   "cell_type": "markdown",
   "metadata": {},
   "source": [
    "#### <p style=\"font-family: Arial; font-size:1.4em; background-color: yellow; color:black;\"> Problem #1.1 </p>\n",
    "\n",
    "#### Complete the code to print the numbers from 10 to 20 with the step 2 (10, 12, ...20) \n",
    "> Use the while loop "
   ]
  },
  {
   "cell_type": "code",
   "execution_count": 5,
   "metadata": {},
   "outputs": [
    {
     "name": "stdout",
     "output_type": "stream",
     "text": [
      "10 12 14 16 18 20 "
     ]
    }
   ],
   "source": [
    "begin = 10\n",
    "end = 20\n",
    "\n",
    "while begin <= end:  # complete the code\n",
    "    print(begin, end = ' ')\n",
    "    begin += 2"
   ]
  },
  {
   "cell_type": "markdown",
   "metadata": {},
   "source": [
    "#### <p style=\"font-family: Arial; font-size:1.4em; background-color: yellow; color:black;\"> Problem #1.2 </p>\n",
    "\n",
    "#### Complete the code to print the numbers from the input value 'begin' to another input 'end'. \n",
    "> Use the while loop  <br>\n",
    "\n",
    "<font color='red'> Note: the input value 'begin' can be greater than 'end'. <br>\n",
    "if begin > end, print all the values from 'begin' to 'end' in decreasing order\n",
    "</font>"
   ]
  },
  {
   "cell_type": "code",
   "execution_count": 10,
   "metadata": {},
   "outputs": [
    {
     "name": "stdout",
     "output_type": "stream",
     "text": [
      "20 19 18 17 16 15 14 13 12 11 10\n"
     ]
    }
   ],
   "source": [
    "begin = int(input('Enter the starting value: '))\n",
    "end = int(input('Enter the end value: '))\n",
    "\n",
    "# Complete the code to print from begin to end\n",
    "while begin != end:  # complete the code\n",
    "    print(begin, end = ' ')\n",
    "    if begin < end: \n",
    "        begin += 1\n",
    "        if begin == end: print(begin)\n",
    "    else: \n",
    "        begin -= 1\n",
    "        if begin == end: print(begin)\n"
   ]
  },
  {
   "cell_type": "markdown",
   "metadata": {},
   "source": [
    "#### <p style=\"font-family: Arial; font-size:1.4em; background-color: yellow; color:black;\"> Problem #1.3 </p>\n",
    "\n",
    "#### Complete the code to print the 9 multiplication numbers from the given input value 'num' \n",
    "> For example, if the input \"num\" is 3, this code will print <br>\n",
    "> 3 6 9 12 15 18 21 24 27 <br>\n",
    "> Use the while loop  <br>"
   ]
  },
  {
   "cell_type": "code",
   "execution_count": 12,
   "metadata": {},
   "outputs": [
    {
     "name": "stdout",
     "output_type": "stream",
     "text": [
      "3 6 9 12 15 18 21 24 27 "
     ]
    }
   ],
   "source": [
    "num = int(input('Enter a number: '))\n",
    "multiplier  = 1\n",
    "\n",
    "while multiplier <= 9:  # complete the code \n",
    "    print(num * multiplier, end = ' ')\n",
    "    multiplier += 1    "
   ]
  },
  {
   "cell_type": "markdown",
   "metadata": {},
   "source": [
    "#### <p style=\"font-family: Arial; font-size:1.4em; background-color: yellow; color:black;\"> Problem #1.4 </p>\n",
    "\n",
    "#### Complete the code to print all numbers \n",
    "#### from 'start' to 'end' if 'start' < 'end'\n",
    "#### from 'end' to 'start' if 'end' < 'start'\n",
    "> For example, if start = 3, end = 5, it will print 3 4 5 <br> \n",
    "> if start = 10, end = 7, it will print 7 8 9 10  <br>\n",
    "> Use the <font color='red'> while loop </font> <br>"
   ]
  },
  {
   "cell_type": "markdown",
   "metadata": {},
   "source": [
    "#### <p style=\"font-family: Arial; font-size:1.4em; background-color: yellow; color:black;\"> Problem #1.5 </p>\n",
    "\n",
    "#### Complete the code to print all numbers \n",
    "#### from 'start' to 'end' if 'start' < 'end'\n",
    "#### from 'end' to 'start' if 'end' < 'start'\n",
    "> For example, if start = 3, end = 5, it will print 3 4 5 <br> \n",
    "> if start = 10, end = 7, it will print 7 8 9 10  <br>\n",
    "> Use the <font color='red'> while loop </font> <br>"
   ]
  },
  {
   "cell_type": "code",
   "execution_count": 19,
   "metadata": {},
   "outputs": [
    {
     "name": "stdout",
     "output_type": "stream",
     "text": [
      "3 4 5 6\n"
     ]
    }
   ],
   "source": [
    "start = int(input('Enter a number: '))\n",
    "end = int(input('Enter a number: '))\n",
    "\n",
    "while start != end:  # complete the code\n",
    "    if start < end: \n",
    "        print(start, end = ' ')\n",
    "        start += 1\n",
    "    else: \n",
    "        print(end, end = ' ')\n",
    "        end += 1\n",
    "    if start == end: \n",
    "        print(start)"
   ]
  },
  {
   "cell_type": "markdown",
   "metadata": {},
   "source": [
    "#### <p style=\"font-family: Arial; font-size:1.4em; background-color: yellow; color:black;\"> Problem #1.6 </p>\n",
    "\n",
    "#### Complete the code to get the summation of 1 to the input 'num' \n",
    "> For example, if num = 5, it will print 15 because 1+2+3+4+5=15 <br> \n",
    "> if num = 10, it will print 55 because 1+2+3+4+5+6+7+8+9+10<br>\n",
    "> Use the <font color='red'> while loop </font> <br>"
   ]
  },
  {
   "cell_type": "code",
   "execution_count": 17,
   "metadata": {},
   "outputs": [
    {
     "name": "stdout",
     "output_type": "stream",
     "text": [
      "The total from 1 to 7 is 28\n"
     ]
    }
   ],
   "source": [
    "num = int(input('Enter a number: '))\n",
    "val = 1\n",
    "total = 0\n",
    "while val <= num:\n",
    "    total += val\n",
    "    val += 1\n",
    "print (f'The total from 1 to {num} is {total}')\n",
    "    "
   ]
  },
  {
   "cell_type": "markdown",
   "metadata": {},
   "source": [
    "#### <p style=\"font-family: Arial; font-size:1.4em; background-color: yellow; color:black;\"> Problem #1.7 </p>\n",
    "\n",
    "#### Complete the code to get the summation between 'start'(inclusive) and 'end'(inclusive)\n",
    "#### Assume that 'start' < 'end'  \n",
    "> For example, if 'start' = 5, 'end' = 10, it will print 45 because 5+6+7+8+9+10=15 <br> \n",
    "> if 'start' = 10, 'end'= 20,  it will print 165 because 10+11+12+13+14+15+16+17+18+19+20 = 165 <br>\n",
    "> Use the <font color='red'> while loop </font> <br>"
   ]
  },
  {
   "cell_type": "code",
   "execution_count": 30,
   "metadata": {},
   "outputs": [
    {
     "name": "stdout",
     "output_type": "stream",
     "text": [
      "The total from 10 to 20 is 165\n"
     ]
    }
   ],
   "source": [
    "start = int(input('Enter a number: '))\n",
    "end = int(input('Enter a number: '))\n",
    "total = 0\n",
    "\n",
    "if start > end:\n",
    "    foo = start\n",
    "    start, end = end, foo\n",
    "    foo, bar = start, end\n",
    "else: \n",
    "    foo, bar = start, end\n",
    "\n",
    "while start <= end:  # complete the code\n",
    "    total += start\n",
    "    start += 1\n",
    "print(f'The total from {foo} to {bar} is {total}')"
   ]
  },
  {
   "cell_type": "markdown",
   "metadata": {},
   "source": [
    "#### <p style=\"font-family: Arial; font-size:1.4em; background-color: yellow; color:black;\"> Problem #1.8 </p>\n",
    "\n",
    "#### Complete the code to print all multiplication numbers of 3 between input 'start' and 'end'(inclusive)\n",
    "#### Assume that 'start' < 'end'  \n",
    "> For example, if start = 2, end = 10, it will print 3 6 9 <br> \n",
    "> if start = 12, end = 21, it will print 12 15 18 21  <br>\n",
    "> Use the <font color='red'> while loop </font> <br>"
   ]
  },
  {
   "cell_type": "code",
   "execution_count": 25,
   "metadata": {},
   "outputs": [
    {
     "name": "stdout",
     "output_type": "stream",
     "text": [
      "12\n",
      "15\n",
      "18\n",
      "21\n"
     ]
    }
   ],
   "source": [
    "start = int(input('Enter a number: '))\n",
    "end = int(input('Enter a number: '))\n",
    "\n",
    "i = start // 3 \n",
    "i += 1 if start % 3 else 0\n",
    "while i*3 <= end:\n",
    "    print (i*3)\n",
    "    i += 1"
   ]
  },
  {
   "cell_type": "markdown",
   "metadata": {},
   "source": [
    "#### <p style=\"font-family: Arial; font-size:1.4em; background-color: yellow; color:black;\"> Problem #1.9 </p>\n",
    "\n",
    "#### Complete the code to print all multiplication numbers of 'seed' between input 'start' and 'end'(inclusive)\n",
    "#### Assume that 'seed' is greater than 1 \n",
    "#### Assume that 'start' < 'end'. Same as 1.8 except the 'seed' \n",
    "> For example, if start = 2, end = 10, seed=3, it will print 3 6 9 <br> \n",
    "> if start = 12, end = 31, seed = 6, it will print 12 18 24  <br>\n",
    "> Use the <font color='red'> while loop </font> <br>"
   ]
  },
  {
   "cell_type": "code",
   "execution_count": 34,
   "metadata": {},
   "outputs": [
    {
     "name": "stdout",
     "output_type": "stream",
     "text": [
      "12 18 24 30 "
     ]
    }
   ],
   "source": [
    "seed = int(input('Enter the seed number for multiplication: '))\n",
    "start = int(input('Enter a number: '))\n",
    "end = int(input('Enter a number: '))\n",
    "\n",
    "while start <= end:  # complete the code\n",
    "    if start % seed == 0:\n",
    "        print(start, end = ' ')\n",
    "    start += 1"
   ]
  },
  {
   "cell_type": "markdown",
   "metadata": {},
   "source": [
    "#### <p style=\"font-family: Arial; font-size:1.4em; background-color: yellow; color:black;\"> Problem #1.10 </p>\n",
    "\n",
    "#### Complete the code to repeat the input number until the inputted number is greater than 100 \n",
    "#### if the input number is greater than 100, stop the while loop\n",
    "#### Otherwise, print the <font color='red'> number </font>\n",
    "> For example, if the series of input is 5 10 15 20 150, <br>\n",
    "> print a input number at each iteration in the while loop, except the 150 <br>\n",
    "> 5 <br> 10 <br> 15<br> 20<br>  \n",
    "> Use the <font color='red'> while loop </font> <br>"
   ]
  },
  {
   "cell_type": "code",
   "execution_count": 35,
   "metadata": {},
   "outputs": [
    {
     "name": "stdout",
     "output_type": "stream",
     "text": [
      "12\n"
     ]
    }
   ],
   "source": [
    "total = 0\n",
    "number = int(input('Enter a number: '))\n",
    "\n",
    "while number <= 100:\n",
    "    print (number)\n",
    "    number = int(input('Enter a number: '))\n",
    "    "
   ]
  },
  {
   "cell_type": "markdown",
   "metadata": {},
   "source": [
    "#### <p style=\"font-family: Arial; font-size:1.4em; background-color: yellow; color:black;\"> Problem #1.11 </p>\n",
    "\n",
    "#### Complete the code to repeat the input of a number until the sum of all input numbers is greater than 100.\n",
    "#### if the sum of all input numbers is greater than 100, stop the while loop\n",
    "#### Otherwise, add the input number to the variable \"<font color='red'> total </font>\" \n",
    "> For example, if the series of input is 5 10 15 20 150, <br>\n",
    "> the total must be 5 + 10 + 15 + 20 + 150 = 200, and stop the while loop   <br>\n",
    "> After the while loop, print the 'total' \n",
    "> Use the <font color='red'> while loop </font> <br>"
   ]
  },
  {
   "cell_type": "code",
   "execution_count": 41,
   "metadata": {},
   "outputs": [
    {
     "name": "stdout",
     "output_type": "stream",
     "text": [
      "The total of input numbers are 198\n"
     ]
    }
   ],
   "source": [
    "number = int(input('Enter a number '))\n",
    "total = number\n",
    "\n",
    "while total <= 100:  # complete the code\n",
    "    number = int(input('Enter a number '))\n",
    "    total += number\n",
    "print (f'The total of input numbers are {total}')"
   ]
  },
  {
   "cell_type": "markdown",
   "metadata": {},
   "source": [
    "#### <p style=\"font-family: Arial; font-size:1.4em; background-color: yellow; color:black;\"> Problem #1.12</p>\n",
    "\n",
    "#### Complete the code to print all alphabets between input letters 'start' and 'end' \n",
    "#### 'start' and 'end' letters are inclusive \n",
    "#### Assumption. 'start' and 'end' is lower case letters. All inputs are lower case. \n",
    "> For example, if 'start' is 'a' and 'end' is 'f'  <br>\n",
    "> print 'a', 'b', 'c', 'd', 'e', 'f' <br>\n",
    "> Use the <font color='red'> while loop </font> <br>\n",
    "\n",
    "#### Refer to the following example code to practice the ord() and chr() funtions"
   ]
  },
  {
   "cell_type": "code",
   "execution_count": 42,
   "metadata": {},
   "outputs": [
    {
     "name": "stdout",
     "output_type": "stream",
     "text": [
      "97\n",
      "98\n"
     ]
    }
   ],
   "source": [
    "start = 'a'\n",
    "print (ord(start))  # it will print 97, which is ASCII code for the letter 'a'\n",
    "\n",
    "next = ord(start) + 1\n",
    "print (next)  # it will print 98, which is ASCII code for the letter 'b'"
   ]
  },
  {
   "cell_type": "code",
   "execution_count": 25,
   "metadata": {},
   "outputs": [
    {
     "data": {
      "text/plain": [
       "('s', 'i', 'b')"
      ]
     },
     "execution_count": 25,
     "metadata": {},
     "output_type": "execute_result"
    }
   ],
   "source": [
    "chr(115), chr(105), chr(98)     # by using the ASCII code 115, we can convert it as a character"
   ]
  },
  {
   "cell_type": "code",
   "execution_count": 26,
   "metadata": {},
   "outputs": [
    {
     "name": "stdout",
     "output_type": "stream",
     "text": [
      "b\n"
     ]
    }
   ],
   "source": [
    "start = 'a'\n",
    "next = ord(start) + 1\n",
    "print (chr(next))"
   ]
  },
  {
   "cell_type": "code",
   "execution_count": 44,
   "metadata": {},
   "outputs": [
    {
     "name": "stdout",
     "output_type": "stream",
     "text": [
      "a b c d e f "
     ]
    }
   ],
   "source": [
    "start = input('Enter a starting letter: ')\n",
    "end = input('Enter a starting letter: ')\n",
    "\n",
    "# complete your code to print all the letters between 'start' and 'end' \n",
    "while ord(start) <= ord(end):\n",
    "    print(start, end = ' ')\n",
    "    start = chr(ord(start) + 1)"
   ]
  },
  {
   "cell_type": "markdown",
   "metadata": {},
   "source": [
    "***"
   ]
  },
  {
   "cell_type": "markdown",
   "metadata": {},
   "source": [
    "#### Loop until the character 'q' is entered"
   ]
  },
  {
   "cell_type": "code",
   "execution_count": 45,
   "metadata": {},
   "outputs": [
    {
     "name": "stdout",
     "output_type": "stream",
     "text": [
      "a\tb\tc\tr\t"
     ]
    }
   ],
   "source": [
    "user_val = input('Enter a character')\n",
    "while ( user_val != 'q' ):\n",
    "\tprint ( user_val, end='\\t')\n",
    "\tuser_val = input('Enter a character')\n"
   ]
  },
  {
   "cell_type": "code",
   "execution_count": 48,
   "metadata": {},
   "outputs": [
    {
     "name": "stdout",
     "output_type": "stream",
     "text": [
      "Invalid Input. Try again\n",
      " user input is  5\n"
     ]
    }
   ],
   "source": [
    "user_num = int(input('Enter your number'))\n",
    "while ( user_num < 0 or user_num > 10):\n",
    "\tprint (\"Invalid Input. Try again\")\n",
    "\tuser_num = int(input('Enter your number'))\n",
    "print (\" user input is \", user_num)\n"
   ]
  },
  {
   "cell_type": "markdown",
   "metadata": {},
   "source": [
    "## Don't forget to <font color='red'> **\"commit\"** </font> your work or <font color='red'> **\"save\"** </font> in Google Colab\n",
    "## before moving to the next section."
   ]
  },
  {
   "cell_type": "markdown",
   "metadata": {},
   "source": [
    "***\n",
    "## <p style=\"background-color: grey; color: white \">  ◼️ For loop </p>\n",
    "# <p style=\"font-family: Arial; font-size:1.4em;color:red;\"> 2. Basic For-loop Structures</p>"
   ]
  },
  {
   "cell_type": "markdown",
   "metadata": {},
   "source": [
    "#### <p style=\"font-family: Arial; font-size:1.4em; background-color: yellow; color:black;\"> Problem #2.1</p>\n",
    "#### Complete the following code cells and figure out the syntax of for-loop"
   ]
  },
  {
   "cell_type": "markdown",
   "metadata": {},
   "source": [
    "##### Basic Syntax of For-Loop"
   ]
  },
  {
   "cell_type": "code",
   "execution_count": 1,
   "metadata": {},
   "outputs": [
    {
     "name": "stdout",
     "output_type": "stream",
     "text": [
      "0 1 2 3 4 5 6 7 8 9 "
     ]
    }
   ],
   "source": [
    "for i in range(10):\n",
    "    print (i, end = ' ')"
   ]
  },
  {
   "cell_type": "code",
   "execution_count": 2,
   "metadata": {},
   "outputs": [
    {
     "name": "stdout",
     "output_type": "stream",
     "text": [
      "0 1 2 3 4 "
     ]
    }
   ],
   "source": [
    "for num in range(5):\n",
    "\tprint (num, end=' ')"
   ]
  },
  {
   "cell_type": "markdown",
   "metadata": {},
   "source": [
    "##### Complete this code to print 0 to <font color='red'> 10</font> with for-loop"
   ]
  },
  {
   "cell_type": "code",
   "execution_count": 3,
   "metadata": {},
   "outputs": [
    {
     "name": "stdout",
     "output_type": "stream",
     "text": [
      "0 1 2 3 4 5 6 7 8 9 10 "
     ]
    }
   ],
   "source": [
    "for val in range(11):  # complete the code \n",
    "    print (val, end=' ')"
   ]
  },
  {
   "cell_type": "markdown",
   "metadata": {},
   "source": [
    "#### <p style=\"font-family: Arial; font-size:1.4em; background-color: yellow; color:black;\"> Problem #2.2: with steps</p>\n",
    "#### Complete the following code cells and check out the results "
   ]
  },
  {
   "cell_type": "code",
   "execution_count": 4,
   "metadata": {},
   "outputs": [
    {
     "name": "stdout",
     "output_type": "stream",
     "text": [
      "0\n",
      "1\n",
      "2\n",
      "3\n",
      "4\n",
      "5\n",
      "6\n",
      "7\n",
      "8\n",
      "9\n"
     ]
    }
   ],
   "source": [
    "for i in range(0, 10):\n",
    "    print (i)"
   ]
  },
  {
   "cell_type": "code",
   "execution_count": 5,
   "metadata": {},
   "outputs": [
    {
     "name": "stdout",
     "output_type": "stream",
     "text": [
      "1\n",
      "2\n",
      "3\n",
      "4\n",
      "5\n",
      "6\n",
      "7\n",
      "8\n",
      "9\n"
     ]
    }
   ],
   "source": [
    "for i in range(1,10):\n",
    "    print (i)"
   ]
  },
  {
   "cell_type": "code",
   "execution_count": 6,
   "metadata": {},
   "outputs": [
    {
     "name": "stdout",
     "output_type": "stream",
     "text": [
      "5\n",
      "6\n",
      "7\n",
      "8\n",
      "9\n"
     ]
    }
   ],
   "source": [
    "for i in range(5,10):\n",
    "    print (i)"
   ]
  },
  {
   "cell_type": "code",
   "execution_count": 7,
   "metadata": {},
   "outputs": [
    {
     "name": "stdout",
     "output_type": "stream",
     "text": [
      "0\n",
      "2\n",
      "4\n",
      "6\n",
      "8\n"
     ]
    }
   ],
   "source": [
    "for i in range(0, 10, 2):\n",
    "    print (i)"
   ]
  },
  {
   "cell_type": "code",
   "execution_count": 8,
   "metadata": {},
   "outputs": [
    {
     "name": "stdout",
     "output_type": "stream",
     "text": [
      "5\n",
      "10\n",
      "15\n",
      "20\n"
     ]
    }
   ],
   "source": [
    "for i in range(5, 25, 5):\n",
    "    print (i)"
   ]
  },
  {
   "cell_type": "markdown",
   "metadata": {},
   "source": [
    "Complete the code to print 10, 12, 14, 16, 18, 20"
   ]
  },
  {
   "cell_type": "code",
   "execution_count": 10,
   "metadata": {},
   "outputs": [
    {
     "name": "stdout",
     "output_type": "stream",
     "text": [
      "10 12 14 16 18 20 "
     ]
    }
   ],
   "source": [
    "for i in range(10, 21, 2):  # complete the code\n",
    "    print(i, end = ' ')"
   ]
  },
  {
   "cell_type": "markdown",
   "metadata": {},
   "source": [
    "#### <p style=\"font-family: Arial; font-size:1.4em; background-color: yellow; color:black;\"> Problem #2.3: decreasing</p>\n",
    "#### Complete the following code cells and check out the results "
   ]
  },
  {
   "cell_type": "code",
   "execution_count": 11,
   "metadata": {},
   "outputs": [],
   "source": [
    "for i in range(10, 0): # not working\n",
    "    print (i)\n"
   ]
  },
  {
   "cell_type": "code",
   "execution_count": 12,
   "metadata": {},
   "outputs": [
    {
     "name": "stdout",
     "output_type": "stream",
     "text": [
      "10\n",
      "9\n",
      "8\n",
      "7\n",
      "6\n",
      "5\n",
      "4\n",
      "3\n",
      "2\n",
      "1\n"
     ]
    }
   ],
   "source": [
    "for i in range(10, 0, -1): \n",
    "    print (i)"
   ]
  },
  {
   "cell_type": "code",
   "execution_count": 13,
   "metadata": {},
   "outputs": [
    {
     "name": "stdout",
     "output_type": "stream",
     "text": [
      "10\n",
      "8\n",
      "6\n",
      "4\n",
      "2\n"
     ]
    }
   ],
   "source": [
    "for i in range(10, 0, -2):\n",
    "    print (i)"
   ]
  },
  {
   "cell_type": "markdown",
   "metadata": {},
   "source": [
    "Complete the code to print 15, 12, 9, 6, 3, 0"
   ]
  },
  {
   "cell_type": "code",
   "execution_count": 14,
   "metadata": {},
   "outputs": [
    {
     "name": "stdout",
     "output_type": "stream",
     "text": [
      "15\n",
      "12\n",
      "9\n",
      "6\n",
      "3\n",
      "0\n"
     ]
    }
   ],
   "source": [
    "for i in range(15, -1, -3):  # complete the code\n",
    "    print (i)"
   ]
  },
  {
   "cell_type": "markdown",
   "metadata": {},
   "source": [
    "#### <p style=\"font-family: Arial; font-size:1.4em; background-color: yellow; color:black;\"> Problem #2.4: list values in for-loop</p>\n",
    "#### Complete the following code cells and check out the results "
   ]
  },
  {
   "cell_type": "markdown",
   "metadata": {},
   "source": [
    "#### List can be used for-loop to iterate all elements \n",
    "```\n",
    "for val in [0,1,2,3,4]:\n",
    "    print (val)\n",
    "```"
   ]
  },
  {
   "cell_type": "code",
   "execution_count": 15,
   "metadata": {},
   "outputs": [
    {
     "name": "stdout",
     "output_type": "stream",
     "text": [
      "0\n",
      "1\n",
      "2\n",
      "3\n",
      "4\n"
     ]
    }
   ],
   "source": [
    "for val in [0,1,2,3,4]:\n",
    "    print (val)"
   ]
  },
  {
   "cell_type": "code",
   "execution_count": 16,
   "metadata": {},
   "outputs": [
    {
     "name": "stdout",
     "output_type": "stream",
     "text": [
      "Java Python C++ R Ruby Java Script "
     ]
    }
   ],
   "source": [
    "for str in ['Java', 'Python', 'C++', 'R', 'Ruby', 'Java Script']:\n",
    "\tprint (str, end=' ')"
   ]
  },
  {
   "cell_type": "code",
   "execution_count": 17,
   "metadata": {},
   "outputs": [
    {
     "name": "stdout",
     "output_type": "stream",
     "text": [
      "10\n",
      "20\n",
      "30\n",
      "10\n",
      "20\n",
      "30\n"
     ]
    }
   ],
   "source": [
    "for val in [10, 20, 30]:\n",
    "\tprint (val)\n",
    "\n",
    "listval = [10, 20, 30]\n",
    "for val in listval:\n",
    "\tprint (val)\n",
    "\n",
    "\t"
   ]
  },
  {
   "cell_type": "markdown",
   "metadata": {},
   "source": [
    "Complete the code to get the summation of 5 user input values"
   ]
  },
  {
   "cell_type": "code",
   "execution_count": 18,
   "metadata": {},
   "outputs": [
    {
     "name": "stdout",
     "output_type": "stream",
     "text": [
      "Summation is 15\n"
     ]
    }
   ],
   "source": [
    "total  = 0\n",
    "for  i in range(5):\n",
    "\tuser_num = int(input('Enter your num'))\n",
    "\ttotal += user_num\n",
    "print (\"Summation is\", total)\n"
   ]
  },
  {
   "cell_type": "markdown",
   "metadata": {},
   "source": [
    "Compare the while-loop version to for-loop"
   ]
  },
  {
   "cell_type": "code",
   "execution_count": 19,
   "metadata": {},
   "outputs": [
    {
     "name": "stdout",
     "output_type": "stream",
     "text": [
      "Summation is 15\n"
     ]
    }
   ],
   "source": [
    "sum = 0\n",
    "i = 0\n",
    "while (i < 5):\n",
    "\tuser_num = int(input('Enter your num'))\n",
    "\tsum += user_num\n",
    "\ti += 1\n",
    "print (\"Summation is\", sum)\n"
   ]
  },
  {
   "cell_type": "code",
   "execution_count": 20,
   "metadata": {},
   "outputs": [
    {
     "name": "stdout",
     "output_type": "stream",
     "text": [
      "1\n",
      "2\n",
      "3\n",
      "4\n",
      "5\n",
      "6\n",
      "7\n",
      "8\n",
      "9\n",
      "10\n",
      "11\n"
     ]
    }
   ],
   "source": [
    "i = 0\n",
    "\n",
    "while True:\n",
    "\ti += 1\n",
    "\tprint (i)\n",
    "\tif ( i > 10):\n",
    "\t\tbreak\n"
   ]
  },
  {
   "cell_type": "markdown",
   "metadata": {},
   "source": [
    "### Calculating Running Total"
   ]
  },
  {
   "cell_type": "code",
   "execution_count": 21,
   "metadata": {},
   "outputs": [
    {
     "name": "stdout",
     "output_type": "stream",
     "text": [
      "Total 15\n"
     ]
    }
   ],
   "source": [
    "sum = 0\n",
    "for i in range(5):\n",
    "\tnumber = int(input('Enter your number'))\n",
    "\tsum += number \n",
    "print ('Total {0}'.format(sum))"
   ]
  },
  {
   "cell_type": "markdown",
   "metadata": {},
   "source": [
    "##### While-loop version"
   ]
  },
  {
   "cell_type": "code",
   "execution_count": 22,
   "metadata": {},
   "outputs": [
    {
     "name": "stdout",
     "output_type": "stream",
     "text": [
      "Total 30\n"
     ]
    }
   ],
   "source": [
    "i = 0\n",
    "while (i < 5):\n",
    "\tnumber = int(input('Enter your number'))\n",
    "\tsum += number \n",
    "\ti += 1\n",
    "print ('Total {0}'.format(sum))"
   ]
  },
  {
   "cell_type": "markdown",
   "metadata": {},
   "source": [
    "### 👉 Complete the code to get the summation of 5 user input values with for-loop "
   ]
  },
  {
   "cell_type": "code",
   "execution_count": 24,
   "metadata": {},
   "outputs": [
    {
     "name": "stdout",
     "output_type": "stream",
     "text": [
      "Total: 15\n"
     ]
    }
   ],
   "source": [
    "summation = 0\n",
    "for i in range(5):  # complete the code\n",
    "    number = int(input('Enter a number: '))\n",
    "    summation += number\n",
    "print('Total:', summation)"
   ]
  },
  {
   "cell_type": "markdown",
   "metadata": {},
   "source": [
    "### 👉 Complete the code to calculate the sum of 10 user input <font color='red'> even </font> values. "
   ]
  },
  {
   "cell_type": "code",
   "execution_count": 25,
   "metadata": {},
   "outputs": [
    {
     "name": "stdout",
     "output_type": "stream",
     "text": [
      "Total: 20\n"
     ]
    }
   ],
   "source": [
    "total = 0\n",
    "for i in range(10): # complete the code\n",
    "    number = int(input('Enter an even number: '))\n",
    "    while number % 2 != 0:\n",
    "        number = int(input('Please only enter even numbers: '))\n",
    "    total += number\n",
    "print('Total:', total)"
   ]
  },
  {
   "cell_type": "markdown",
   "metadata": {},
   "source": [
    "#### What is the main difference between for-loop and while-loop?\n",
    "#### In which case the while-loop has advantage?"
   ]
  },
  {
   "cell_type": "markdown",
   "metadata": {},
   "source": [
    "#####  💯 Make your answer here with MD syntax\n",
    "##### What is the main difference between for-loop and while-loop?\n",
    "- For loops run a definite number of iterations, while loops can run indefinitely until some criteria is met.\n",
    "##### In which case the while-loop has advantage?\n",
    "- While loops are advantageous when you don't know how man iterations will be needed to reach your end goal. "
   ]
  },
  {
   "cell_type": "markdown",
   "metadata": {},
   "source": [
    "## Don't forget to <font color='red'> **\"commit\"** </font> your work or <font color='red'> **\"save\"** </font> in Google Colab\n",
    "## before moving to the next section."
   ]
  },
  {
   "cell_type": "markdown",
   "metadata": {},
   "source": [
    "***\n",
    "## <p style=\"background-color: grey; color: white\">  ◼️ Random Numbers </p>\n",
    "# <p style=\"font-family: Arial; font-size:1.4em;color:red;\"> 3. Random Numbers </p>"
   ]
  },
  {
   "cell_type": "markdown",
   "metadata": {},
   "source": [
    "#### To create the Random Numbers, import the random module first\n",
    "> <font color='red'> import random </font>"
   ]
  },
  {
   "cell_type": "markdown",
   "metadata": {},
   "source": [
    "#### Random module supports the varous functions to generate random numbers\n",
    "#### Here is the link to learn more about \"Random\" module\n",
    "[Manual for Random Modlue](https://docs.python.org/3/library/random.html)\n",
    "\n",
    "In this first example, we will use only \"randint()\" function"
   ]
  },
  {
   "cell_type": "code",
   "execution_count": 1,
   "metadata": {},
   "outputs": [
    {
     "data": {
      "text/plain": [
       "31"
      ]
     },
     "execution_count": 1,
     "metadata": {},
     "output_type": "execute_result"
    }
   ],
   "source": [
    "import random \n",
    "\n",
    "randnum = random.randint(0, 100) # will return a random number between 0 and 100 (inclusive)\n",
    "randnum"
   ]
  },
  {
   "cell_type": "code",
   "execution_count": 2,
   "metadata": {},
   "outputs": [
    {
     "name": "stdout",
     "output_type": "stream",
     "text": [
      "The generated random number is 4, 2 and 9\n"
     ]
    }
   ],
   "source": [
    "rdnum1 = random.randint(0,10)\n",
    "rdnum2 = random.randint(0,10)\n",
    "rdnum3 = random.randint(0,10)\n",
    "\n",
    "print (f'The generated random number is {rdnum1}, {rdnum2} and {rdnum3}')"
   ]
  },
  {
   "cell_type": "markdown",
   "metadata": {},
   "source": [
    "#### <p style=\"font-family: Arial; font-size:1.4em; background-color: yellow; color:black;\"> Problem #3.1:  Random number</p>"
   ]
  },
  {
   "cell_type": "markdown",
   "metadata": {},
   "source": [
    "#### Complete the code to generate the random number between 10 and 20"
   ]
  },
  {
   "cell_type": "code",
   "execution_count": 5,
   "metadata": {},
   "outputs": [
    {
     "data": {
      "text/plain": [
       "17"
      ]
     },
     "execution_count": 5,
     "metadata": {},
     "output_type": "execute_result"
    }
   ],
   "source": [
    "import random\n",
    "\n",
    "randnum = random.randint(10,20)\n",
    "randnum  # complete the code"
   ]
  },
  {
   "cell_type": "markdown",
   "metadata": {},
   "source": [
    "#### Complete the code to generate 5 random number between 10 and 20 using for loop\n"
   ]
  },
  {
   "cell_type": "code",
   "execution_count": 6,
   "metadata": {},
   "outputs": [
    {
     "name": "stdout",
     "output_type": "stream",
     "text": [
      "19 17 13 18 17 "
     ]
    }
   ],
   "source": [
    "for i in range(5):\n",
    "    rdnum = random.randint(10, 20)\n",
    "    print (rdnum, end=' ')"
   ]
  },
  {
   "cell_type": "markdown",
   "metadata": {},
   "source": [
    "#### <p style=\"font-family: Arial; font-size:1.4em; background-color: yellow; color:black;\"> Problem #3.2  </p>\n",
    "#### Complete the code to generate 5 radom numbers between 10 and 20, and calculate the sum of all random numbers\n",
    "##### ✓ No need to use the \"list\" data type. "
   ]
  },
  {
   "cell_type": "code",
   "execution_count": 12,
   "metadata": {},
   "outputs": [
    {
     "data": {
      "text/plain": [
       "77"
      ]
     },
     "execution_count": 12,
     "metadata": {},
     "output_type": "execute_result"
    }
   ],
   "source": [
    "import random\n",
    "\n",
    "total = 0  # complete the code here\n",
    "\n",
    "for i in range(5):\n",
    "    randnum = random.randint(10, 20)\n",
    "    total += randnum\n",
    "total"
   ]
  },
  {
   "cell_type": "markdown",
   "metadata": {},
   "source": [
    "#### <p style=\"font-family: Arial; font-size:1.4em; background-color: yellow; color:black;\"> Problem #3.3  </p>\n",
    "#### Complete the code to generate 5 radom numbers between 0 and 10, and find the greatest number \n",
    "##### ✓ No need to use the \"list\" data type. "
   ]
  },
  {
   "cell_type": "code",
   "execution_count": 13,
   "metadata": {},
   "outputs": [
    {
     "name": "stdout",
     "output_type": "stream",
     "text": [
      "0 10 4 5 6 \n",
      "The greatest random number is 10\n"
     ]
    }
   ],
   "source": [
    "for i in range(5):\n",
    "    rdnum = random.randint(0,10)\n",
    "    if i == 0: # if it is the first iteration\n",
    "        maxval = rdnum # We assume that the first rdnum is greatest number\n",
    "    if rdnum > maxval:  # if the next rdnum is greater than the current maxval, keep it as maxval\n",
    "        maxval = rdnum\n",
    "    print (rdnum, end=' ')\n",
    "\n",
    "print (f'\\nThe greatest random number is {maxval}')"
   ]
  },
  {
   "cell_type": "markdown",
   "metadata": {},
   "source": [
    "#### <p style=\"font-family: Arial; font-size:1.4em; background-color: yellow; color:black;\"> Problem #3.4  </p>\n",
    "#### Complete the code to generate 5 radom numbers between 0 and 10, and find the least number \n",
    "##### ✓ No need to use the \"list\" data type. "
   ]
  },
  {
   "cell_type": "code",
   "execution_count": 15,
   "metadata": {},
   "outputs": [
    {
     "name": "stdout",
     "output_type": "stream",
     "text": [
      "9 6 6 9 7 \n",
      "The smallest random number is 6\n"
     ]
    }
   ],
   "source": [
    "for i in range(5):  # complete the code here\n",
    "    randnum = random.randint(0,10)\n",
    "    if i == 0:\n",
    "        minval = randnum\n",
    "    if randnum < minval:\n",
    "        minval = randnum\n",
    "    print(randnum, end = ' ')\n",
    "print(f'\\nThe smallest random number is {minval}')"
   ]
  },
  {
   "cell_type": "markdown",
   "metadata": {},
   "source": [
    "#### <p style=\"font-family: Arial; font-size:1.4em; background-color: yellow; color:black;\"> Problem #3.5  </p>\n",
    "#### Write a program that generates a random number between 0 and 100 repeatedly.\n",
    "#### The while loop will stop if it is greater than the immediate preceding random number.\n",
    "##### ✓ No need to use the \"list\" data type. <br>"
   ]
  },
  {
   "cell_type": "code",
   "execution_count": 39,
   "metadata": {},
   "outputs": [
    {
     "name": "stdout",
     "output_type": "stream",
     "text": [
      "78 65 61 13 100 "
     ]
    }
   ],
   "source": [
    "import random\n",
    "flag = 1 \n",
    "prev_num = 101\n",
    "while (flag):\n",
    "\tcurrent_num = random.randint(0,100)\n",
    "\tprint (current_num, end = ' ')\n",
    "\tif ( current_num > prev_num):\n",
    "\t\tflag = 0;\n",
    "\tprev_num = current_num \n"
   ]
  },
  {
   "cell_type": "markdown",
   "metadata": {},
   "source": [
    "## Don't forget to <font color='red'> **\"commit\"** </font> your work or <font color='red'> **\"save\"** </font> in Google Colab\n",
    "## before moving to the next section."
   ]
  },
  {
   "cell_type": "markdown",
   "metadata": {},
   "source": [
    "***\n",
    "## <p style=\"background-color: grey; color: white\">  ◼️ List and For loop </p>\n",
    "# <p style=\"font-family: Arial; font-size:1.4em;color:red;\"> 4. List and For loop </p>"
   ]
  },
  {
   "cell_type": "markdown",
   "metadata": {},
   "source": [
    "#### list is the data type that can hold the multiple values as a element\n",
    "#### For example\n",
    "> <code> mylist = [10, 20, 30, 40, 50] </code>\n",
    "\n",
    "#### Each element can be accessed by using index, for example, to access the 2nd element\n",
    "> <code> mylist[1]   # it will print the value 20 </code>"
   ]
  },
  {
   "cell_type": "code",
   "execution_count": 40,
   "metadata": {},
   "outputs": [
    {
     "name": "stdout",
     "output_type": "stream",
     "text": [
      "10\n",
      "20\n",
      "30\n",
      "40\n",
      "50\n"
     ]
    }
   ],
   "source": [
    "mylist = [10, 20, 30, 40, 50]\n",
    "print (mylist[0])\n",
    "print (mylist[1])\n",
    "print (mylist[2])\n",
    "print (mylist[3])\n",
    "print (mylist[4])"
   ]
  },
  {
   "cell_type": "code",
   "execution_count": 41,
   "metadata": {},
   "outputs": [
    {
     "name": "stdout",
     "output_type": "stream",
     "text": [
      "150\n"
     ]
    }
   ],
   "source": [
    "mylist = [10, 20, 30, 40, 50]\n",
    "total = mylist[0] + mylist[1] + mylist[2] + mylist[3] + mylist[4]\n",
    "print (total)"
   ]
  },
  {
   "cell_type": "markdown",
   "metadata": {},
   "source": [
    "#### Print all elements in the list "
   ]
  },
  {
   "cell_type": "code",
   "execution_count": 42,
   "metadata": {},
   "outputs": [
    {
     "name": "stdout",
     "output_type": "stream",
     "text": [
      "10 20 30 40 50 "
     ]
    }
   ],
   "source": [
    "mylist = [10, 20, 30, 40, 50]\n",
    "for idx in range(5):\n",
    "\tprint (mylist[idx], end=' ')"
   ]
  },
  {
   "cell_type": "markdown",
   "metadata": {},
   "source": [
    "#### Print all elements in reverse order in the list "
   ]
  },
  {
   "cell_type": "code",
   "execution_count": 43,
   "metadata": {},
   "outputs": [
    {
     "name": "stdout",
     "output_type": "stream",
     "text": [
      "50 40 30 20 10 "
     ]
    }
   ],
   "source": [
    "mylist = [10, 20, 30, 40, 50]\n",
    "for idx in range(4, -1, -1):\n",
    "\tprint (mylist[idx], end=' ')"
   ]
  },
  {
   "cell_type": "markdown",
   "metadata": {},
   "source": [
    "#### Print all elements in reverse order by using the \"reversed()\" function "
   ]
  },
  {
   "cell_type": "code",
   "execution_count": 44,
   "metadata": {},
   "outputs": [
    {
     "name": "stdout",
     "output_type": "stream",
     "text": [
      "4 3 2 1 0 "
     ]
    }
   ],
   "source": [
    "for i in reversed(range(5)):\n",
    "    print (i, end=' ')  # it will print 4 3 2 1 0, # Now you can these sequence to access the elements"
   ]
  },
  {
   "cell_type": "code",
   "execution_count": 46,
   "metadata": {},
   "outputs": [
    {
     "name": "stdout",
     "output_type": "stream",
     "text": [
      "50 40 30 20 10 "
     ]
    }
   ],
   "source": [
    "mylist = [10, 20, 30, 40, 50]\n",
    "for idx in reversed(range(5)):  \n",
    "\tprint (mylist[idx], end=' ')"
   ]
  },
  {
   "cell_type": "markdown",
   "metadata": {},
   "source": [
    "#### Accessing each element directly without index in the for-loop "
   ]
  },
  {
   "cell_type": "code",
   "execution_count": 47,
   "metadata": {},
   "outputs": [
    {
     "name": "stdout",
     "output_type": "stream",
     "text": [
      "11 22 33 44 55 "
     ]
    }
   ],
   "source": [
    "mylist = [11, 22, 33, 44, 55]\n",
    "\n",
    "for v in mylist:        # the variable v will be each element in the repetition.\n",
    "    print (v, end=' ')\n"
   ]
  },
  {
   "cell_type": "markdown",
   "metadata": {},
   "source": [
    "#### <p style=\"font-family: Arial; font-size:1.4em; background-color: yellow; color:black;\"> Problem #4.1  </p>\n",
    "#### Calculate the sum of all elements using for-loop\n",
    "#### Do not use the function sum(). Need to practice the for-loop and develop your algorithm "
   ]
  },
  {
   "cell_type": "code",
   "execution_count": 48,
   "metadata": {},
   "outputs": [
    {
     "data": {
      "text/plain": [
       "150"
      ]
     },
     "execution_count": 48,
     "metadata": {},
     "output_type": "execute_result"
    }
   ],
   "source": [
    "\n",
    "mylist = [10, 20, 30, 40, 50]\n",
    "total = 0\n",
    "\n",
    "for i in mylist:  # Complete the code\n",
    "    total += i\n",
    "total"
   ]
  },
  {
   "cell_type": "markdown",
   "metadata": {},
   "source": [
    "#### <p style=\"font-family: Arial; font-size:1.4em; background-color: yellow; color:black;\"> Problem #4.2  </p>\n",
    "#### Find the least number in the list. \n",
    "#### Do not use the function <font color='red'>min() </font>. <br> Need to practice the for-loop and develop your algorithm \n",
    "#### Follow the algorithm steps to find the least number \n",
    "> 1) Assume that the 1st element is the least number    \n",
    ">> <code> minval = mylist[0] </code>\n",
    "> 2) Iterate all elements from 2nd to the last\n",
    ">> <code> for i in range(len(mylist)): </code>\n",
    "> 3) If any element in the list is less than the current, replace the minval with the current element\n",
    ">> <code> if mylist[i] < minval: </code>\n",
    ">>> <code> minval = mylist[i] </code>"
   ]
  },
  {
   "cell_type": "code",
   "execution_count": 49,
   "metadata": {},
   "outputs": [
    {
     "data": {
      "text/plain": [
       "10"
      ]
     },
     "execution_count": 49,
     "metadata": {},
     "output_type": "execute_result"
    }
   ],
   "source": [
    "mylist = [10, 20, 30, 40, 50]\n",
    "minval = mylist[0]\n",
    "\n",
    "for i in range(len(mylist)):  # complete your code\n",
    "    if mylist[i] < minval:\n",
    "        minval = mylist[i]\n",
    "minval"
   ]
  },
  {
   "cell_type": "markdown",
   "metadata": {},
   "source": [
    "#### <p style=\"font-family: Arial; font-size:1.4em; background-color: yellow; color:black;\"> Problem #4.3  </p>\n",
    "#### Complete the code that determines whether the input value is in the list or not \n",
    "#### Do not use the operator <font color='red'>in </font>. <br> Need to practice the for-loop and develop your algorithm \n",
    "> input number <br>\n",
    "> for each element in the list <br>\n",
    ">> compare input number to each element <br>\n",
    ">> if two values are same, print True <br>"
   ]
  },
  {
   "cell_type": "code",
   "execution_count": 50,
   "metadata": {},
   "outputs": [
    {
     "name": "stdout",
     "output_type": "stream",
     "text": [
      "True\n"
     ]
    }
   ],
   "source": [
    "target = int(input('Enter a number: '))\n",
    "\n",
    "for i in mylist:  # complete the code\n",
    "    if i == target:\n",
    "        print(True)"
   ]
  },
  {
   "cell_type": "markdown",
   "metadata": {},
   "source": [
    "## Don't forget to <font color='red'> **\"commit\"** </font> your work or <font color='red'> **\"save\"** </font> in Google Colab\n",
    "## before moving to the next section."
   ]
  },
  {
   "cell_type": "markdown",
   "metadata": {},
   "source": [
    "***\n",
    "## <p style=\"background-color: grey; color: white\">  ◼️ Break and Continue </p>\n",
    "# <p style=\"font-family: Arial; font-size:1.4em;color:red;\"> 5. Break and Continue </p>\n",
    "\n",
    "\n",
    "#### In programming, the break and continue statements are used to alter the flow of loops:\n",
    "<ul>\n",
    "\t<li><code>break</code> exits the loop entirely</li>\n",
    "\t<li><code>continue</code> skips the current iteration and proceeds to the next one</li>\n",
    "</ul>"
   ]
  },
  {
   "cell_type": "markdown",
   "metadata": {},
   "source": [
    "### Example code: Before run the below cell, guess the value of i after for loop"
   ]
  },
  {
   "cell_type": "code",
   "execution_count": 51,
   "metadata": {},
   "outputs": [
    {
     "name": "stdout",
     "output_type": "stream",
     "text": [
      "3\n"
     ]
    }
   ],
   "source": [
    "for i in range(5):\n",
    "    if i == 3:\n",
    "        break\n",
    "print (i)       # value i? why? "
   ]
  },
  {
   "cell_type": "markdown",
   "metadata": {},
   "source": [
    "### Example code: 10 iterations with while-loop and break\n",
    " "
   ]
  },
  {
   "cell_type": "code",
   "execution_count": 52,
   "metadata": {},
   "outputs": [
    {
     "name": "stdout",
     "output_type": "stream",
     "text": [
      "0 1 2 3 4 5 6 7 8 9 "
     ]
    }
   ],
   "source": [
    "i = 0\n",
    "while True:\n",
    "    if i == 10:\n",
    "        break\n",
    "    print (i, end=' ')\n",
    "    i += 1\n"
   ]
  },
  {
   "cell_type": "markdown",
   "metadata": {},
   "source": [
    "#### <p style=\"font-family: Arial; font-size:1.4em; background-color: yellow; color:black;\"> Problem #5.1  </p>\n",
    "#### Complete the code that input a number until the input value is -1 \n",
    "> Use the while loop and break"
   ]
  },
  {
   "cell_type": "code",
   "execution_count": 54,
   "metadata": {},
   "outputs": [
    {
     "name": "stdout",
     "output_type": "stream",
     "text": [
      "1\n"
     ]
    }
   ],
   "source": [
    "while True:\n",
    "    number = int(input('Enter a number: '))\n",
    "    if number == -1: \n",
    "        break  # complete the code\n",
    "    print(number)"
   ]
  },
  {
   "cell_type": "markdown",
   "metadata": {},
   "source": [
    "#### <p style=\"font-family: Arial; font-size:1.4em; background-color: yellow; color:black;\"> Problem #5.2  </p>\n",
    "#### Complete the code that input a word until the input value is 'stop' \n",
    "> Use the while loop and break"
   ]
  },
  {
   "cell_type": "code",
   "execution_count": 55,
   "metadata": {},
   "outputs": [
    {
     "name": "stdout",
     "output_type": "stream",
     "text": [
      "start\n"
     ]
    }
   ],
   "source": [
    "while True:\n",
    "    word = input('Enter a word: ')\n",
    "    if word == 'stop':\n",
    "        break  # complete your code\n",
    "    print(word)"
   ]
  },
  {
   "cell_type": "markdown",
   "metadata": {},
   "source": [
    "## Don't forget to <font color='red'> **\"commit\"** </font> your work or <font color='red'> **\"save\"** </font> in Google Colab\n",
    "## before moving to the next section."
   ]
  },
  {
   "cell_type": "markdown",
   "metadata": {},
   "source": [
    "***\n",
    "## <p style=\"background-color: grey; color: white\">  ◼️ While-else for-else </p>\n",
    "# <p style=\"font-family: Arial; font-size:1.4em;color:red;\"> 6. while-else for-else </p>\n",
    "### While and for loop also has the \"else\" clause"
   ]
  },
  {
   "cell_type": "markdown",
   "metadata": {},
   "source": [
    "#### With the else statement we can run a block of code once when the condition no longer is true: "
   ]
  },
  {
   "cell_type": "code",
   "execution_count": 61,
   "metadata": {},
   "outputs": [
    {
     "name": "stdout",
     "output_type": "stream",
     "text": [
      "1 2 3 4 5 6 7 8 9 \n",
      "i is no longer less than 10\n"
     ]
    }
   ],
   "source": [
    "i = 1\n",
    "while i < 10:\n",
    "  print(i, end=' ')\n",
    "  i += 1\n",
    "else:\n",
    "  print(\"\\ni is no longer less than 10\")"
   ]
  },
  {
   "cell_type": "markdown",
   "metadata": {},
   "source": [
    "#### What is the difference with the following code?"
   ]
  },
  {
   "cell_type": "markdown",
   "metadata": {},
   "source": [
    "There is no difference between two while-loops."
   ]
  },
  {
   "cell_type": "code",
   "execution_count": 62,
   "metadata": {},
   "outputs": [
    {
     "name": "stdout",
     "output_type": "stream",
     "text": [
      "1 2 3 4 5 6 7 8 9 \n",
      "i is no longer less than 10\n"
     ]
    }
   ],
   "source": [
    "i = 1\n",
    "while i < 10:\n",
    "  print(i, end=' ')\n",
    "  i += 1\n",
    "print(\"\\ni is no longer less than 10\")"
   ]
  },
  {
   "cell_type": "markdown",
   "metadata": {},
   "source": [
    "#### <p style=\"font-family: Arial; font-size:1.4em; background-color: yellow; color:black;\"> Problem #6.1  </p>\n",
    "#### Run the following example to see the difference\n",
    "#### At the 1st try, use the input series 10, 15, 20, 25, 30\n",
    "#### At the 2nd try, use the input series 10, 15, -1 <font color='red'> ⚠️ \"else\" part will not be executed"
   ]
  },
  {
   "cell_type": "code",
   "execution_count": 69,
   "metadata": {},
   "outputs": [
    {
     "name": "stdout",
     "output_type": "stream",
     "text": [
      "1 2 -1 "
     ]
    }
   ],
   "source": [
    "i = 0\n",
    "while i < 5:\n",
    "    number = int(input('Enter a number: '))\n",
    "    print (number, end= ' ')\n",
    "    if number == -1:\n",
    "        break\n",
    "    i += 1\n",
    "else:\n",
    "    print ('Executed while-else part')\n"
   ]
  },
  {
   "cell_type": "markdown",
   "metadata": {},
   "source": [
    "#### <p style=\"font-family: Arial; font-size:1.4em; background-color: yellow; color:black;\"> Problem #6.2  </p>\n",
    "#### Write a code to decide all the elements in the list are positive or not "
   ]
  },
  {
   "cell_type": "markdown",
   "metadata": {},
   "source": [
    "#### [Version 1] "
   ]
  },
  {
   "cell_type": "code",
   "execution_count": 70,
   "metadata": {},
   "outputs": [
    {
     "name": "stdout",
     "output_type": "stream",
     "text": [
      "All elements are not positive value\n"
     ]
    }
   ],
   "source": [
    "mylist = [1,2,-3, 4, 5]\n",
    "\n",
    "flag = True\n",
    "for v in mylist:\n",
    "    if v < 0:\n",
    "        flag = False \n",
    "\n",
    "if flag:\n",
    "    print ('All elements are positive value')\n",
    "else:\n",
    "    print ('All elements are not positive value')"
   ]
  },
  {
   "cell_type": "markdown",
   "metadata": {},
   "source": [
    "#### [Version 2] \n",
    "#### for-else has advantage when you check the condition \"for all elements\""
   ]
  },
  {
   "cell_type": "code",
   "execution_count": 72,
   "metadata": {},
   "outputs": [
    {
     "name": "stdout",
     "output_type": "stream",
     "text": [
      "All elements are not positive value\n"
     ]
    }
   ],
   "source": [
    "mylist = [1,2,-3, 4, 5]\n",
    "\n",
    "for v in mylist:\n",
    "    if v < 0:\n",
    "        print ('All elements are not positive value')\n",
    "        break\n",
    "else:\n",
    "    print ('All elements are positive value')"
   ]
  },
  {
   "cell_type": "markdown",
   "metadata": {},
   "source": [
    "#### <p style=\"font-family: Arial; font-size:1.4em; background-color: yellow; color:black;\"> Problem #6.3  </p>\n",
    "#### Write a code to determine if the list contains an element that matches the input number"
   ]
  },
  {
   "cell_type": "code",
   "execution_count": null,
   "metadata": {},
   "outputs": [],
   "source": [
    "number = int(input('Enter a number: '))\n",
    "mylist = [10, 12, 14, 16, 18, 20]\n",
    "\n",
    "for i in range(len(mylist)):\n",
    "    if number == mylist[i]:\n",
    "        print (f'The value {number} is in the list')\n",
    "        # complete the code\n",
    "else:\n",
    "    print (f'The value {number} is not in the list')"
   ]
  },
  {
   "cell_type": "markdown",
   "metadata": {},
   "source": [
    "## Don't forget to <font color='red'> **\"commit\"** </font> your work or <font color='red'> **\"save\"** </font> in Google Colab\n",
    "## before moving to the next section."
   ]
  },
  {
   "cell_type": "markdown",
   "metadata": {},
   "source": [
    "***\n",
    "## <p style=\"background-color: grey; color: white\">  ◼️ Input Validation </p>\n",
    "# <p style=\"font-family: Arial; font-size:1.4em;color:red;\"> 7. Input Validation </p>"
   ]
  },
  {
   "cell_type": "markdown",
   "metadata": {},
   "source": [
    "#### Complete the following code segments and run it\n",
    "#### Figure out the code algorithms"
   ]
  },
  {
   "cell_type": "markdown",
   "metadata": {},
   "source": [
    "#### Code that checks whether the input number is between 0 and 100"
   ]
  },
  {
   "cell_type": "code",
   "execution_count": null,
   "metadata": {},
   "outputs": [
    {
     "name": "stdout",
     "output_type": "stream",
     "text": [
      "10\n"
     ]
    }
   ],
   "source": [
    "\n",
    "number = int(input('Enter your input'))\n",
    "\n",
    "while ( number < 0 or number > 100):\n",
    "\tnumber = int(input('The input should be between 0 and 100'))\n",
    "\n",
    "print (number)\n"
   ]
  },
  {
   "cell_type": "markdown",
   "metadata": {},
   "source": [
    "#### Print a character until 'q' is entered\n"
   ]
  },
  {
   "cell_type": "code",
   "execution_count": null,
   "metadata": {},
   "outputs": [
    {
     "name": "stdout",
     "output_type": "stream",
     "text": [
      "a b d d e s "
     ]
    }
   ],
   "source": [
    "user_char =  input('Enter your character')  \n",
    "\n",
    "while( user_char != 'q'):\n",
    "\tprint (user_char, end=' ')\n",
    "\tuser_char =  input('Enter your character')  \n"
   ]
  },
  {
   "cell_type": "markdown",
   "metadata": {},
   "source": [
    "#### <p style=\"font-family: Arial; font-size:1.4em; background-color: yellow; color:black;\"> Problem #7.1  </p>\n",
    "#### Complete the code using \"try-except\" clause to decide whether the input causes an \"ValueError\" or not"
   ]
  },
  {
   "cell_type": "markdown",
   "metadata": {},
   "source": [
    "## Try-except statement\n",
    "> learn more about \"try-except\" throught the [link](https://docs.python.org/3/tutorial/errors.html) <br>\n",
    "> [another resource to learn try-except](https://python101.pythonlibrary.org/chapter7_exception_handling.html)\n",
    "#### Try to input the \"non integer value\" like a letter"
   ]
  },
  {
   "cell_type": "code",
   "execution_count": null,
   "metadata": {},
   "outputs": [
    {
     "name": "stdout",
     "output_type": "stream",
     "text": [
      "Invalid input: Value Error\n",
      "10\n"
     ]
    }
   ],
   "source": [
    "try:\n",
    "\tuser_num = int(input('Enter a number'))\n",
    "except ValueError:\n",
    "\tprint ('Invalid input: Value Error')\n",
    "\n",
    "print (user_num)"
   ]
  },
  {
   "cell_type": "markdown",
   "metadata": {},
   "source": [
    "#### input a number until it is valid"
   ]
  },
  {
   "cell_type": "code",
   "execution_count": null,
   "metadata": {},
   "outputs": [],
   "source": [
    "while True:\n",
    "\ttry:\n",
    "\t\tuser_num = int(input('Enter a number'))\n",
    "\texcept ValueError:\n",
    "\t\tprint ('Invalid input: Value Error')\n",
    "\t\tcontinue\n",
    "\telse:\n",
    "\t\tprint (user_num)\n",
    "\t\tbreak"
   ]
  },
  {
   "cell_type": "markdown",
   "metadata": {},
   "source": [
    "## Don't forget to <font color='red'> **\"commit\"** </font> your work or <font color='red'> **\"save\"** </font> in Google Colab\n",
    "## before moving to the next section."
   ]
  },
  {
   "cell_type": "markdown",
   "metadata": {},
   "source": [
    "***\n",
    "## <p style=\"background-color:grey; color:white\">  ◼️ Nested Loop  </p>\n",
    "# <p style=\"font-family: Arial; font-size:1.4em;color:red;\"> 8. Nested Loop </p>\n",
    "\n",
    "#### Check out the following example codes and figure out the results\n"
   ]
  },
  {
   "cell_type": "markdown",
   "metadata": {},
   "source": [
    "#### All combinations of Set A (0, 1, 2) and Set B (0, 1, 2, 3, 4)\n",
    "```\n",
    "(0, 0) (0, 1) (0, 2) (0, 3) (0, 4) \n",
    "(1, 0) (1, 1) (1, 2) (1, 3) (1, 4) \n",
    "(2, 0) (2, 1) (2, 2) (2, 3) (2, 4) \n",
    "```"
   ]
  },
  {
   "cell_type": "code",
   "execution_count": null,
   "metadata": {},
   "outputs": [],
   "source": [
    "for i in range(3):\n",
    "    for j in range(5):\n",
    "        print (i, j) "
   ]
  },
  {
   "cell_type": "code",
   "execution_count": null,
   "metadata": {},
   "outputs": [],
   "source": [
    "for i in range(3):\n",
    "\tfor j in range(5):\n",
    "\t\tprint (f'({i}, {j})', end=' ')\n",
    "\tprint ()"
   ]
  },
  {
   "cell_type": "markdown",
   "metadata": {},
   "source": [
    "#### <p style=\"font-family: Arial; font-size:1.4em; background-color: yellow; color:black;\"> Problem #8.1  </p>\n",
    "#### Complete the code in the nested for loop to print the result below\n",
    "```\n",
    "(0, 0) (0, 1) (0, 2) \n",
    "(1, 0) (1, 1) (1, 2) \n",
    "(2, 0) (2, 1) (2, 2) \n",
    "(3, 0) (3, 1) (3, 2) \n",
    "(4, 0) (4, 1) (4, 2)\n",
    "```\n"
   ]
  },
  {
   "cell_type": "code",
   "execution_count": null,
   "metadata": {},
   "outputs": [],
   "source": [
    "for i in range(# Complete the code):\n",
    "    for j in range(# Complete the code):\n",
    "        print (f'({i}, {j})', end=' ')\n",
    "    print()"
   ]
  },
  {
   "cell_type": "markdown",
   "metadata": {},
   "source": [
    "#### <p style=\"font-family: Arial; font-size:1.4em; background-color: yellow; color:black;\"> Problem #8.2  </p>\n",
    "#### Complete the code in the nested for loop to print the result below\n",
    "```\n",
    "(0, 0) (0, 1) (0, 2) (0, 3) \n",
    "(1, 0) (1, 1) (1, 2) (1, 3) \n",
    "(2, 0) (2, 1) (2, 2) (2, 3)\n",
    "```\n"
   ]
  },
  {
   "cell_type": "code",
   "execution_count": null,
   "metadata": {},
   "outputs": [],
   "source": [
    "for i in range(# Complete the code):\n",
    "    for j in range(# Complete the code):\n",
    "        print (f'({i}, {j})', end=' ')\n",
    "    print()"
   ]
  },
  {
   "cell_type": "markdown",
   "metadata": {},
   "source": [
    "#### <p style=\"font-family: Arial; font-size:1.4em; background-color: yellow; color:black;\"> Problem #8.3  </p>\n",
    "#### Expect the output result before executing the code cell  \n",
    "```\n",
    "Explain the result. why?\n",
    "```\n"
   ]
  },
  {
   "cell_type": "code",
   "execution_count": 94,
   "metadata": {},
   "outputs": [
    {
     "name": "stdout",
     "output_type": "stream",
     "text": [
      "(9,0) (9,1) (9,2) \n",
      "(8,0) (8,1) (8,2) \n",
      "(7,0) (7,1) (7,2) \n"
     ]
    }
   ],
   "source": [
    "for i in range(9,6,-1):\n",
    "\tfor j in range(3):\n",
    "\t\tprint (f'({i},{j})', end=' ')\n",
    "\tprint ()"
   ]
  },
  {
   "cell_type": "markdown",
   "metadata": {},
   "source": [
    "#### Your answer:\n",
    "#### What is the output? Why?\n",
    "***"
   ]
  },
  {
   "cell_type": "code",
   "execution_count": null,
   "metadata": {},
   "outputs": [],
   "source": [
    "for i in range(5):\n",
    "\tfor j in range(i, 5):\n",
    "\t\tprint (f'({i},{j})', end=' ')\n",
    "\tprint()"
   ]
  },
  {
   "cell_type": "markdown",
   "metadata": {},
   "source": [
    "#### Your answer:\n",
    "#### What is the output? Why?\n",
    "***"
   ]
  },
  {
   "cell_type": "code",
   "execution_count": null,
   "metadata": {},
   "outputs": [],
   "source": [
    "for i in range(3):\n",
    "\tfor j in range(i,3):\n",
    "\t\tprint (f'({i},{j})', end=' ')\n",
    "\tprint ( )"
   ]
  },
  {
   "cell_type": "markdown",
   "metadata": {},
   "source": [
    "#### Your answer:\n",
    "#### What is the output? Why?\n",
    "***"
   ]
  },
  {
   "cell_type": "code",
   "execution_count": null,
   "metadata": {},
   "outputs": [],
   "source": [
    "for i in range(5):\n",
    "\tfor j in range(0, i):\n",
    "\t\tprint (f'({i},{j})', end=' ')\n",
    "\tprint ( )"
   ]
  }
 ],
 "metadata": {
  "interpreter": {
   "hash": "a614fddea9d37e019a720cc724ab725ff28be4e0e64e91a691a8738e1909110d"
  },
  "kernelspec": {
   "display_name": "Python 3.9.7 64-bit ('base': conda)",
   "language": "python",
   "name": "python3"
  },
  "language_info": {
   "codemirror_mode": {
    "name": "ipython",
    "version": 3
   },
   "file_extension": ".py",
   "mimetype": "text/x-python",
   "name": "python",
   "nbconvert_exporter": "python",
   "pygments_lexer": "ipython3",
   "version": "3.12.4"
  },
  "orig_nbformat": 4
 },
 "nbformat": 4,
 "nbformat_minor": 2
}
